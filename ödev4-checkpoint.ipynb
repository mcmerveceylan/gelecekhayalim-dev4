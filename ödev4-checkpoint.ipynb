{
 "cells": [
  {
   "cell_type": "code",
   "execution_count": null,
   "metadata": {},
   "outputs": [],
   "source": [
    "liste = [\"Python\", True, 9, \"3\", 8.4, \"Hi-Kod\", \"False\", 4.7]\n",
    "\n",
    "# \"3\" değerine ulaşmak için indexleme\n",
    "deger_3 = liste[3]\n",
    "print('\"3\" değeri:', deger_3)\n",
    "\n",
    "# \"Hi-Kod\" değerine ulaşmak için indexleme\n",
    "deger_hi_kod = liste[5]\n",
    "print('\"Hi-Kod\" değeri:', deger_hi_kod)\n",
    "\n",
    "# 4.7 değerine ulaşmak için indexleme\n",
    "deger_4_7 = liste[7]\n",
    "print('4.7 değeri:', deger_4_7)\n",
    "\n",
    "# 9, \"3\", 8.4, \"Hi-Kod\" değerlerine ulaşmak için slicing\n",
    "slicing_1 = liste[2:6]  # 2. indeksten 6. indise kadar (6. dahil değil)\n",
    "print('9, \"3\", 8.4, \"Hi-Kod\" değerleri:', slicing_1)\n",
    "\n",
    "# 8.4, \"Hi-Kod\", \"False\", 4.7 değerlerine ulaşmak için slicing\n",
    "slicing_2 = liste[4:]  # 4. indekten sonuna kadar\n",
    "print('8.4, \"Hi-Kod\", \"False\", 4.7 değerleri:', slicing_2)\n"
   ]
  },
  {
   "cell_type": "code",
   "execution_count": null,
   "metadata": {},
   "outputs": [],
   "source": [
    "liste = [\"Python\", True, 9, \"3\", 8.4, \"Hi-Kod\", \"False\", 4.7]\n",
    "\n",
    "# Yeni liste \n",
    "yeni_liste = []\n",
    "\n",
    "# String öğeleri filtreleme\n",
    "for eleman in liste:\n",
    "    if isinstance(eleman, str):\n",
    "        yeni_liste.append(eleman)\n",
    "\n",
    "print(\"Yeni Liste:\", yeni_liste)\n"
   ]
  },
  {
   "cell_type": "code",
   "execution_count": null,
   "metadata": {},
   "outputs": [],
   "source": [
    "meyveler = [\"Elma\", \"Muz\", \"Çilek\", \"Kivi\"]\n",
    "\n",
    "# enumerate ile meyveleri ve indekslerini yazdırma\n",
    "for index, meyve in enumerate(meyveler):\n",
    "    print(\"{}. indexte bulunan meyve: {}\".format(index, meyve))\n"
   ]
  }
 ],
 "metadata": {
  "kernelspec": {
   "display_name": "Python 3",
   "language": "python",
   "name": "python3"
  },
  "language_info": {
   "codemirror_mode": {
    "name": "ipython",
    "version": 3
   },
   "file_extension": ".py",
   "mimetype": "text/x-python",
   "name": "python",
   "nbconvert_exporter": "python",
   "pygments_lexer": "ipython3",
   "version": "3.8.5"
  }
 },
 "nbformat": 4,
 "nbformat_minor": 4
}
